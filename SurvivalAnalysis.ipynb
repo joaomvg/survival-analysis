{
 "cells": [
  {
   "cell_type": "code",
   "execution_count": 1,
   "metadata": {},
   "outputs": [],
   "source": [
    "import pandas as pd\n",
    "import numpy as np"
   ]
  },
  {
   "cell_type": "markdown",
   "metadata": {},
   "source": [
    "# Repair data"
   ]
  },
  {
   "cell_type": "code",
   "execution_count": 2,
   "metadata": {},
   "outputs": [],
   "source": [
    "repairtrain=pd.read_csv('RepairTrain.csv')"
   ]
  },
  {
   "cell_type": "code",
   "execution_count": 7,
   "metadata": {},
   "outputs": [],
   "source": [
    "repairtrain['repair_date']=pd.to_datetime(repairtrain['year/month(repair)'])\n",
    "repairtrain['sale_date']=pd.to_datetime(repairtrain['year/month(sale)'])"
   ]
  },
  {
   "cell_type": "code",
   "execution_count": 10,
   "metadata": {},
   "outputs": [],
   "source": [
    "repairtrain.drop(columns=['year/month(sale)','year/month(repair)'],inplace=True)"
   ]
  },
  {
   "cell_type": "code",
   "execution_count": 12,
   "metadata": {},
   "outputs": [
    {
     "data": {
      "text/plain": [
       "module_category       0\n",
       "component_category    0\n",
       "number_repair         0\n",
       "repair_date           0\n",
       "sale_date             0\n",
       "dtype: int64"
      ]
     },
     "execution_count": 12,
     "metadata": {},
     "output_type": "execute_result"
    }
   ],
   "source": [
    "repairtrain.isna().sum()"
   ]
  },
  {
   "cell_type": "code",
   "execution_count": 45,
   "metadata": {},
   "outputs": [],
   "source": [
    "repairtrain['sale_date']=repairtrain['sale_date'].dt.date \n",
    "repairtrain['repair_date']=repairtrain['repair_date'].dt.date"
   ]
  },
  {
   "cell_type": "code",
   "execution_count": 51,
   "metadata": {},
   "outputs": [],
   "source": [
    "cols=['module_category', 'component_category', 'sale_date','repair_date','number_repair']\n",
    "repairtrain= repairtrain[cols]"
   ]
  },
  {
   "cell_type": "code",
   "execution_count": 53,
   "metadata": {},
   "outputs": [],
   "source": [
    "repairtrain.sort_values(['module_category', 'component_category','sale_date','repair_date'],inplace=True)"
   ]
  },
  {
   "cell_type": "code",
   "execution_count": 56,
   "metadata": {},
   "outputs": [],
   "source": [
    "repairtrain=repairtrain.groupby(['module_category', 'component_category','sale_date','repair_date'])['number_repair'].sum().to_frame()"
   ]
  },
  {
   "cell_type": "code",
   "execution_count": 58,
   "metadata": {},
   "outputs": [],
   "source": [
    "repairtrain.reset_index(inplace=True)"
   ]
  },
  {
   "cell_type": "code",
   "execution_count": 77,
   "metadata": {},
   "outputs": [],
   "source": [
    "repairtrain['days_until_repair']=(repairtrain['repair_date']-repairtrain['sale_date']).apply(lambda x: x.days)"
   ]
  },
  {
   "cell_type": "code",
   "execution_count": 90,
   "metadata": {},
   "outputs": [],
   "source": [
    "repairtrain['months_until_repair']=np.round((repairtrain['repair_date']-repairtrain['sale_date'])/np.timedelta64(1, 'M'))"
   ]
  },
  {
   "cell_type": "code",
   "execution_count": 94,
   "metadata": {},
   "outputs": [
    {
     "data": {
      "text/html": [
       "<div>\n",
       "<style scoped>\n",
       "    .dataframe tbody tr th:only-of-type {\n",
       "        vertical-align: middle;\n",
       "    }\n",
       "\n",
       "    .dataframe tbody tr th {\n",
       "        vertical-align: top;\n",
       "    }\n",
       "\n",
       "    .dataframe thead th {\n",
       "        text-align: right;\n",
       "    }\n",
       "</style>\n",
       "<table border=\"1\" class=\"dataframe\">\n",
       "  <thead>\n",
       "    <tr style=\"text-align: right;\">\n",
       "      <th></th>\n",
       "      <th>module_category</th>\n",
       "      <th>component_category</th>\n",
       "      <th>sale_date</th>\n",
       "      <th>repair_date</th>\n",
       "      <th>number_repair</th>\n",
       "      <th>days_until_repair</th>\n",
       "      <th>months_until_repair</th>\n",
       "    </tr>\n",
       "  </thead>\n",
       "  <tbody>\n",
       "    <tr>\n",
       "      <th>0</th>\n",
       "      <td>M1</td>\n",
       "      <td>P02</td>\n",
       "      <td>2006-01-01</td>\n",
       "      <td>2007-06-01</td>\n",
       "      <td>1</td>\n",
       "      <td>516</td>\n",
       "      <td>17.0</td>\n",
       "    </tr>\n",
       "    <tr>\n",
       "      <th>1</th>\n",
       "      <td>M1</td>\n",
       "      <td>P02</td>\n",
       "      <td>2006-02-01</td>\n",
       "      <td>2006-09-01</td>\n",
       "      <td>2</td>\n",
       "      <td>212</td>\n",
       "      <td>7.0</td>\n",
       "    </tr>\n",
       "    <tr>\n",
       "      <th>2</th>\n",
       "      <td>M1</td>\n",
       "      <td>P02</td>\n",
       "      <td>2006-02-01</td>\n",
       "      <td>2006-11-01</td>\n",
       "      <td>1</td>\n",
       "      <td>273</td>\n",
       "      <td>9.0</td>\n",
       "    </tr>\n",
       "    <tr>\n",
       "      <th>3</th>\n",
       "      <td>M1</td>\n",
       "      <td>P02</td>\n",
       "      <td>2006-02-01</td>\n",
       "      <td>2006-12-01</td>\n",
       "      <td>1</td>\n",
       "      <td>303</td>\n",
       "      <td>10.0</td>\n",
       "    </tr>\n",
       "    <tr>\n",
       "      <th>4</th>\n",
       "      <td>M1</td>\n",
       "      <td>P02</td>\n",
       "      <td>2006-02-01</td>\n",
       "      <td>2007-08-01</td>\n",
       "      <td>2</td>\n",
       "      <td>546</td>\n",
       "      <td>18.0</td>\n",
       "    </tr>\n",
       "    <tr>\n",
       "      <th>...</th>\n",
       "      <td>...</td>\n",
       "      <td>...</td>\n",
       "      <td>...</td>\n",
       "      <td>...</td>\n",
       "      <td>...</td>\n",
       "      <td>...</td>\n",
       "      <td>...</td>\n",
       "    </tr>\n",
       "    <tr>\n",
       "      <th>54383</th>\n",
       "      <td>M9</td>\n",
       "      <td>P31</td>\n",
       "      <td>2006-09-01</td>\n",
       "      <td>2007-12-01</td>\n",
       "      <td>1</td>\n",
       "      <td>456</td>\n",
       "      <td>15.0</td>\n",
       "    </tr>\n",
       "    <tr>\n",
       "      <th>54384</th>\n",
       "      <td>M9</td>\n",
       "      <td>P31</td>\n",
       "      <td>2006-09-01</td>\n",
       "      <td>2008-02-01</td>\n",
       "      <td>1</td>\n",
       "      <td>518</td>\n",
       "      <td>17.0</td>\n",
       "    </tr>\n",
       "    <tr>\n",
       "      <th>54385</th>\n",
       "      <td>M9</td>\n",
       "      <td>P31</td>\n",
       "      <td>2006-09-01</td>\n",
       "      <td>2008-07-01</td>\n",
       "      <td>1</td>\n",
       "      <td>669</td>\n",
       "      <td>22.0</td>\n",
       "    </tr>\n",
       "    <tr>\n",
       "      <th>54386</th>\n",
       "      <td>M9</td>\n",
       "      <td>P31</td>\n",
       "      <td>2006-09-01</td>\n",
       "      <td>2008-08-01</td>\n",
       "      <td>1</td>\n",
       "      <td>700</td>\n",
       "      <td>23.0</td>\n",
       "    </tr>\n",
       "    <tr>\n",
       "      <th>54387</th>\n",
       "      <td>M9</td>\n",
       "      <td>P31</td>\n",
       "      <td>2006-09-01</td>\n",
       "      <td>2008-09-01</td>\n",
       "      <td>1</td>\n",
       "      <td>731</td>\n",
       "      <td>24.0</td>\n",
       "    </tr>\n",
       "  </tbody>\n",
       "</table>\n",
       "<p>54388 rows × 7 columns</p>\n",
       "</div>"
      ],
      "text/plain": [
       "      module_category component_category   sale_date repair_date  \\\n",
       "0                  M1                P02  2006-01-01  2007-06-01   \n",
       "1                  M1                P02  2006-02-01  2006-09-01   \n",
       "2                  M1                P02  2006-02-01  2006-11-01   \n",
       "3                  M1                P02  2006-02-01  2006-12-01   \n",
       "4                  M1                P02  2006-02-01  2007-08-01   \n",
       "...               ...                ...         ...         ...   \n",
       "54383              M9                P31  2006-09-01  2007-12-01   \n",
       "54384              M9                P31  2006-09-01  2008-02-01   \n",
       "54385              M9                P31  2006-09-01  2008-07-01   \n",
       "54386              M9                P31  2006-09-01  2008-08-01   \n",
       "54387              M9                P31  2006-09-01  2008-09-01   \n",
       "\n",
       "       number_repair  days_until_repair  months_until_repair  \n",
       "0                  1                516                 17.0  \n",
       "1                  2                212                  7.0  \n",
       "2                  1                273                  9.0  \n",
       "3                  1                303                 10.0  \n",
       "4                  2                546                 18.0  \n",
       "...              ...                ...                  ...  \n",
       "54383              1                456                 15.0  \n",
       "54384              1                518                 17.0  \n",
       "54385              1                669                 22.0  \n",
       "54386              1                700                 23.0  \n",
       "54387              1                731                 24.0  \n",
       "\n",
       "[54388 rows x 7 columns]"
      ]
     },
     "execution_count": 94,
     "metadata": {},
     "output_type": "execute_result"
    }
   ],
   "source": [
    "repairtrain"
   ]
  },
  {
   "cell_type": "code",
   "execution_count": 95,
   "metadata": {},
   "outputs": [],
   "source": [
    "repairtrain.set_index(['module_category', 'component_category','sale_date'], inplace=True)"
   ]
  },
  {
   "cell_type": "markdown",
   "metadata": {},
   "source": [
    "# Sale data"
   ]
  },
  {
   "cell_type": "code",
   "execution_count": 18,
   "metadata": {},
   "outputs": [],
   "source": [
    "saletrain=pd.read_csv('SaleTrain.csv')"
   ]
  },
  {
   "cell_type": "code",
   "execution_count": 19,
   "metadata": {},
   "outputs": [],
   "source": [
    "saletrain['sale_date']=pd.to_datetime(saletrain['year/month'])"
   ]
  },
  {
   "cell_type": "code",
   "execution_count": 20,
   "metadata": {},
   "outputs": [],
   "source": [
    "saletrain.drop(columns=['year/month'],inplace=True)"
   ]
  },
  {
   "cell_type": "code",
   "execution_count": 80,
   "metadata": {},
   "outputs": [
    {
     "data": {
      "text/plain": [
       "Index(['module_category', 'component_category', 'number_sale', 'sale_date'], dtype='object')"
      ]
     },
     "execution_count": 80,
     "metadata": {},
     "output_type": "execute_result"
    }
   ],
   "source": [
    "saletrain.columns"
   ]
  },
  {
   "cell_type": "code",
   "execution_count": 81,
   "metadata": {},
   "outputs": [],
   "source": [
    "saletrain=saletrain.groupby(['module_category', 'component_category', 'sale_date'])['number_sale'].sum().to_frame()"
   ]
  },
  {
   "cell_type": "code",
   "execution_count": 96,
   "metadata": {},
   "outputs": [],
   "source": [
    "saletrain.set_index(['module_category', 'component_category', 'sale_date'],inplace=True)"
   ]
  },
  {
   "cell_type": "markdown",
   "metadata": {},
   "source": [
    "# Output Target Data"
   ]
  },
  {
   "cell_type": "code",
   "execution_count": 39,
   "metadata": {},
   "outputs": [],
   "source": [
    "out_target=pd.read_csv('Output_TargetID_Mapping.csv')"
   ]
  },
  {
   "cell_type": "code",
   "execution_count": 43,
   "metadata": {},
   "outputs": [
    {
     "data": {
      "text/plain": [
       "0       2010\n",
       "1       2010\n",
       "2       2010\n",
       "3       2010\n",
       "4       2010\n",
       "        ... \n",
       "4251    2011\n",
       "4252    2011\n",
       "4253    2011\n",
       "4254    2011\n",
       "4255    2011\n",
       "Name: year, Length: 4256, dtype: int64"
      ]
     },
     "execution_count": 43,
     "metadata": {},
     "output_type": "execute_result"
    }
   ],
   "source": [
    "out_target.year"
   ]
  },
  {
   "cell_type": "markdown",
   "metadata": {},
   "source": [
    "# Model"
   ]
  },
  {
   "cell_type": "code",
   "execution_count": 140,
   "metadata": {},
   "outputs": [],
   "source": [
    "df_input=repairtrain.copy()\n",
    "df_input['number_sale']=saletrain['number_sale']"
   ]
  },
  {
   "cell_type": "code",
   "execution_count": 141,
   "metadata": {},
   "outputs": [],
   "source": [
    "df_input.reset_index(inplace=True)"
   ]
  },
  {
   "cell_type": "code",
   "execution_count": 142,
   "metadata": {},
   "outputs": [
    {
     "data": {
      "text/plain": [
       "module_category           0\n",
       "component_category        0\n",
       "sale_date                 0\n",
       "repair_date               0\n",
       "number_repair             0\n",
       "days_until_repair         0\n",
       "months_until_repair       0\n",
       "number_sale            2131\n",
       "dtype: int64"
      ]
     },
     "execution_count": 142,
     "metadata": {},
     "output_type": "execute_result"
    }
   ],
   "source": [
    "df_input.isna().sum()"
   ]
  },
  {
   "cell_type": "code",
   "execution_count": 143,
   "metadata": {},
   "outputs": [],
   "source": [
    "df_input['sale_months']=np.round((df_input['sale_date']-df_input['sale_date'].min())/np.timedelta64(1, 'M'))\n",
    "df_input['repair_months']=np.round((df_input['repair_date']-df_input['sale_date'].min())/np.timedelta64(1, 'M'))"
   ]
  },
  {
   "cell_type": "code",
   "execution_count": 146,
   "metadata": {},
   "outputs": [],
   "source": [
    "df_input.drop(columns=['sale_date','repair_date'],inplace=True)"
   ]
  },
  {
   "cell_type": "code",
   "execution_count": 147,
   "metadata": {},
   "outputs": [],
   "source": [
    "df_input['event']=1"
   ]
  },
  {
   "cell_type": "code",
   "execution_count": 166,
   "metadata": {},
   "outputs": [],
   "source": [
    "df_input['freq']=df_input['number_repair']"
   ]
  },
  {
   "cell_type": "code",
   "execution_count": 167,
   "metadata": {},
   "outputs": [],
   "source": [
    "final_repair_date=df_input['repair_months'].max()-df_input['sale_months'].min()\n",
    "\n",
    "def add_censor(x):\n",
    "    new_row = pd.DataFrame(x.iloc[-1, :]).transpose()\n",
    "\n",
    "    new_row['repair_months'] = final_repair_date\n",
    "\n",
    "    new_row['months_until_repair'] = new_row['repair_months'] - new_row['sale_months']\n",
    "\n",
    "    new_row['event'] = 0\n",
    "    \n",
    "    new_row['freq'] = new_row['number_sale'] - sum(x['freq'])\n",
    "    \n",
    "    return x.append(new_row)"
   ]
  },
  {
   "cell_type": "code",
   "execution_count": 173,
   "metadata": {},
   "outputs": [],
   "source": [
    "df_input=df_input.dropna().groupby(['module_category', 'component_category', 'sale_months']).apply(add_censor).reset_index(drop = True)"
   ]
  },
  {
   "cell_type": "code",
   "execution_count": 174,
   "metadata": {},
   "outputs": [
    {
     "data": {
      "text/html": [
       "<div>\n",
       "<style scoped>\n",
       "    .dataframe tbody tr th:only-of-type {\n",
       "        vertical-align: middle;\n",
       "    }\n",
       "\n",
       "    .dataframe tbody tr th {\n",
       "        vertical-align: top;\n",
       "    }\n",
       "\n",
       "    .dataframe thead th {\n",
       "        text-align: right;\n",
       "    }\n",
       "</style>\n",
       "<table border=\"1\" class=\"dataframe\">\n",
       "  <thead>\n",
       "    <tr style=\"text-align: right;\">\n",
       "      <th></th>\n",
       "      <th>module_category</th>\n",
       "      <th>component_category</th>\n",
       "      <th>number_repair</th>\n",
       "      <th>days_until_repair</th>\n",
       "      <th>months_until_repair</th>\n",
       "      <th>number_sale</th>\n",
       "      <th>sale_months</th>\n",
       "      <th>repair_months</th>\n",
       "      <th>event</th>\n",
       "      <th>freq</th>\n",
       "    </tr>\n",
       "  </thead>\n",
       "  <tbody>\n",
       "    <tr>\n",
       "      <th>0</th>\n",
       "      <td>M1</td>\n",
       "      <td>P02</td>\n",
       "      <td>2</td>\n",
       "      <td>212</td>\n",
       "      <td>7.0</td>\n",
       "      <td>2856.0</td>\n",
       "      <td>35.0</td>\n",
       "      <td>42.0</td>\n",
       "      <td>1</td>\n",
       "      <td>2</td>\n",
       "    </tr>\n",
       "    <tr>\n",
       "      <th>1</th>\n",
       "      <td>M1</td>\n",
       "      <td>P02</td>\n",
       "      <td>1</td>\n",
       "      <td>273</td>\n",
       "      <td>9.0</td>\n",
       "      <td>2856.0</td>\n",
       "      <td>35.0</td>\n",
       "      <td>44.0</td>\n",
       "      <td>1</td>\n",
       "      <td>1</td>\n",
       "    </tr>\n",
       "    <tr>\n",
       "      <th>2</th>\n",
       "      <td>M1</td>\n",
       "      <td>P02</td>\n",
       "      <td>1</td>\n",
       "      <td>303</td>\n",
       "      <td>10.0</td>\n",
       "      <td>2856.0</td>\n",
       "      <td>35.0</td>\n",
       "      <td>45.0</td>\n",
       "      <td>1</td>\n",
       "      <td>1</td>\n",
       "    </tr>\n",
       "    <tr>\n",
       "      <th>3</th>\n",
       "      <td>M1</td>\n",
       "      <td>P02</td>\n",
       "      <td>2</td>\n",
       "      <td>546</td>\n",
       "      <td>18.0</td>\n",
       "      <td>2856.0</td>\n",
       "      <td>35.0</td>\n",
       "      <td>53.0</td>\n",
       "      <td>1</td>\n",
       "      <td>2</td>\n",
       "    </tr>\n",
       "    <tr>\n",
       "      <th>4</th>\n",
       "      <td>M1</td>\n",
       "      <td>P02</td>\n",
       "      <td>1</td>\n",
       "      <td>699</td>\n",
       "      <td>23.0</td>\n",
       "      <td>2856.0</td>\n",
       "      <td>35.0</td>\n",
       "      <td>58.0</td>\n",
       "      <td>1</td>\n",
       "      <td>1</td>\n",
       "    </tr>\n",
       "    <tr>\n",
       "      <th>5</th>\n",
       "      <td>M1</td>\n",
       "      <td>P02</td>\n",
       "      <td>1</td>\n",
       "      <td>759</td>\n",
       "      <td>25.0</td>\n",
       "      <td>2856.0</td>\n",
       "      <td>35.0</td>\n",
       "      <td>60.0</td>\n",
       "      <td>1</td>\n",
       "      <td>1</td>\n",
       "    </tr>\n",
       "    <tr>\n",
       "      <th>6</th>\n",
       "      <td>M1</td>\n",
       "      <td>P02</td>\n",
       "      <td>1</td>\n",
       "      <td>790</td>\n",
       "      <td>26.0</td>\n",
       "      <td>2856.0</td>\n",
       "      <td>35.0</td>\n",
       "      <td>61.0</td>\n",
       "      <td>1</td>\n",
       "      <td>1</td>\n",
       "    </tr>\n",
       "    <tr>\n",
       "      <th>7</th>\n",
       "      <td>M1</td>\n",
       "      <td>P02</td>\n",
       "      <td>1</td>\n",
       "      <td>790</td>\n",
       "      <td>46.0</td>\n",
       "      <td>2856.0</td>\n",
       "      <td>35.0</td>\n",
       "      <td>81.0</td>\n",
       "      <td>0</td>\n",
       "      <td>2847.0</td>\n",
       "    </tr>\n",
       "    <tr>\n",
       "      <th>8</th>\n",
       "      <td>M1</td>\n",
       "      <td>P02</td>\n",
       "      <td>1</td>\n",
       "      <td>122</td>\n",
       "      <td>4.0</td>\n",
       "      <td>28672.0</td>\n",
       "      <td>36.0</td>\n",
       "      <td>40.0</td>\n",
       "      <td>1</td>\n",
       "      <td>1</td>\n",
       "    </tr>\n",
       "    <tr>\n",
       "      <th>9</th>\n",
       "      <td>M1</td>\n",
       "      <td>P02</td>\n",
       "      <td>1</td>\n",
       "      <td>184</td>\n",
       "      <td>6.0</td>\n",
       "      <td>28672.0</td>\n",
       "      <td>36.0</td>\n",
       "      <td>42.0</td>\n",
       "      <td>1</td>\n",
       "      <td>1</td>\n",
       "    </tr>\n",
       "  </tbody>\n",
       "</table>\n",
       "</div>"
      ],
      "text/plain": [
       "  module_category component_category number_repair days_until_repair  \\\n",
       "0              M1                P02             2               212   \n",
       "1              M1                P02             1               273   \n",
       "2              M1                P02             1               303   \n",
       "3              M1                P02             2               546   \n",
       "4              M1                P02             1               699   \n",
       "5              M1                P02             1               759   \n",
       "6              M1                P02             1               790   \n",
       "7              M1                P02             1               790   \n",
       "8              M1                P02             1               122   \n",
       "9              M1                P02             1               184   \n",
       "\n",
       "  months_until_repair number_sale sale_months  repair_months  event    freq  \n",
       "0                 7.0      2856.0        35.0           42.0      1       2  \n",
       "1                 9.0      2856.0        35.0           44.0      1       1  \n",
       "2                10.0      2856.0        35.0           45.0      1       1  \n",
       "3                18.0      2856.0        35.0           53.0      1       2  \n",
       "4                23.0      2856.0        35.0           58.0      1       1  \n",
       "5                25.0      2856.0        35.0           60.0      1       1  \n",
       "6                26.0      2856.0        35.0           61.0      1       1  \n",
       "7                46.0      2856.0        35.0           81.0      0  2847.0  \n",
       "8                 4.0     28672.0        36.0           40.0      1       1  \n",
       "9                 6.0     28672.0        36.0           42.0      1       1  "
      ]
     },
     "execution_count": 174,
     "metadata": {},
     "output_type": "execute_result"
    }
   ],
   "source": [
    "df_input.head(10)"
   ]
  },
  {
   "cell_type": "markdown",
   "metadata": {},
   "source": [
    "## NelsonAalenFitter"
   ]
  },
  {
   "cell_type": "code",
   "execution_count": 178,
   "metadata": {},
   "outputs": [],
   "source": [
    "from lifelines import NelsonAalenFitter\n",
    "import lifelines"
   ]
  },
  {
   "cell_type": "code",
   "execution_count": 182,
   "metadata": {},
   "outputs": [],
   "source": [
    "naf = lifelines.NelsonAalenFitter(nelson_aalen_smoothing = False)\n",
    "comp_hazard = pd.DataFrame(columns = ['component_category', 'months_until_repair', 'hazard'])"
   ]
  },
  {
   "cell_type": "code",
   "execution_count": null,
   "metadata": {},
   "outputs": [],
   "source": [
    "for component in df_input['component_category'].unique():\n",
    "    print('Current component %s' % component)\n",
    "    cur_df = pd.DataFrame(columns = ['component_category', 'months_until_repair', 'hazard'])\n",
    "    df_input_specific = df_input[df_input['component_category'].str.match(component)]\n",
    "    naf.fit(durations = df_input_specific['months_until_repair'], event_observed = df_input_specific['event'], weights = df_input_specific['freq'])\n",
    "    cur_df['months_until_repair'] = naf.cumulative_hazard_.index\n",
    "    cur_df['hazard'] = naf.cumulative_hazard_.diff().fillna(0).values\n",
    "    cur_df['component_category'] = component\n",
    "    comp_hazard = pd.concat([comp_hazard, cur_df])\n",
    "    naf.plot_hazard(bandwidth=3)\n",
    "plt.show()"
   ]
  },
  {
   "cell_type": "markdown",
   "metadata": {},
   "source": [
    "# Telco Customer Churn"
   ]
  },
  {
   "cell_type": "code",
   "execution_count": 188,
   "metadata": {},
   "outputs": [],
   "source": [
    "data=pd.read_csv('Telco-Customer-Churn.csv')"
   ]
  },
  {
   "cell_type": "code",
   "execution_count": 190,
   "metadata": {},
   "outputs": [],
   "source": [
    "data['churn'] = [1 if x == 'Yes' else 0 for x in data['Churn']]"
   ]
  },
  {
   "cell_type": "code",
   "execution_count": 195,
   "metadata": {},
   "outputs": [],
   "source": [
    "from lifelines import KaplanMeierFitter ,NelsonAalenFitter\n",
    "from lifelines.statistics import (logrank_test, \n",
    "                                  pairwise_logrank_test, \n",
    "                                  multivariate_logrank_test, \n",
    "                                  survival_difference_at_fixed_point_in_time_test)"
   ]
  },
  {
   "cell_type": "code",
   "execution_count": 193,
   "metadata": {},
   "outputs": [
    {
     "data": {
      "text/plain": [
       "<AxesSubplot:xlabel='timeline'>"
      ]
     },
     "execution_count": 193,
     "metadata": {},
     "output_type": "execute_result"
    },
    {
     "data": {
      "image/png": "[encoded data removed]",
      "text/plain": [
       "<Figure size 432x288 with 2 Axes>"
      ]
     },
     "metadata": {
      "needs_background": "light"
     },
     "output_type": "display_data"
    }
   ],
   "source": [
    "T = data['tenure']\n",
    "E = data['churn']\n",
    "\n",
    "kmf = KaplanMeierFitter()\n",
    "kmf.fit(T, event_observed=E)\n",
    "\n",
    "kmf.plot(at_risk_counts=True)"
   ]
  },
  {
   "cell_type": "code",
   "execution_count": 196,
   "metadata": {},
   "outputs": [
    {
     "data": {
      "text/plain": [
       "<AxesSubplot:xlabel='timeline'>"
      ]
     },
     "execution_count": 196,
     "metadata": {},
     "output_type": "execute_result"
    },
    {
     "data": {
      "image/png": "[encoded data removed]",
      "text/plain": [
       "<Figure size 432x288 with 2 Axes>"
      ]
     },
     "metadata": {
      "needs_background": "light"
     },
     "output_type": "display_data"
    }
   ],
   "source": [
    "naf = NelsonAalenFitter()\n",
    "naf.fit(T, event_observed=E)\n",
    "\n",
    "naf.plot(at_risk_counts=True)"
   ]
  }
 ],
 "metadata": {
  "interpreter": {
   "hash": "46b936ff1622c326d442b837a2b71fa5dbcf20e52e3a75b5ec5a0d8bfc7f438d"
  },
  "kernelspec": {
   "display_name": "Python 3.8.5 64-bit ('base': conda)",
   "name": "python3"
  },
  "language_info": {
   "codemirror_mode": {
    "name": "ipython",
    "version": 3
   },
   "file_extension": ".py",
   "mimetype": "text/x-python",
   "name": "python",
   "nbconvert_exporter": "python",
   "pygments_lexer": "ipython3",
   "version": "3.8.5"
  },
  "orig_nbformat": 4
 },
 "nbformat": 4,
 "nbformat_minor": 2
}
